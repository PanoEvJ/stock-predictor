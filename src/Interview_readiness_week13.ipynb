{
 "cells": [
  {
   "attachments": {},
   "cell_type": "markdown",
   "metadata": {},
   "source": [
    "What does it mean to create a Docker image and why do we use Docker images?\n",
    "\n",
    "Craeting an Docker image means creating a template with instructions for creating a Docker container. It includes all the files, dependencies, and configurations required to run a particular application. You might create your own images or you might only use those created by others and published in a registry. To build your own image, you create a Dockerfile with a simple syntax for defining the steps needed to create the image and run it. Each instruction in a Dockerfile creates a layer in the image. The image can then be used to create new containers that are identical to the original container, allowing for consistent deployment and scaling of the application.\n",
    "\n",
    "We use Docker images for portability (platfrom-agnostic), scalability (same image => multiple containers), consistency (same configuration & dependencies) and versioning."
   ]
  },
  {
   "attachments": {},
   "cell_type": "markdown",
   "metadata": {},
   "source": [
    "Please explain what is the difference from a Container vs a Virtual Machine?\n",
    "\n",
    "Containers and virtual machines are technologies that make your applications independent from your IT infrastructure resources. A container is a software code package containing an application’s code, its libraries, and other dependencies. Containerization makes your applications portable so that the same code can run on any device. A virtual machine is a digital copy of a physical machine. You can have multiple virtual machines with their own individual operating systems running on the same host operating system. In addition, you can create a virtual machine that contains everything required to run your application.\n",
    "\n",
    "In general, containers are a lightweight and efficient form of virtualization that share the host operating system kernel, while virtual machines are a more traditional form of virtualization that virtualize the entire operating system and application environment. Containers are more portable, require less overhead, and are faster to start and stop, while virtual machines provide more isolation and security but consume more resources."
   ]
  },
  {
   "attachments": {},
   "cell_type": "markdown",
   "metadata": {},
   "source": [
    "What are 5 examples of container orchestration tools (please list tools)?\n",
    "\n",
    "1. Kubernetes\n",
    "2. Red Hat Openshift \n",
    "3. Google Container Engine\n",
    "4. Amazon ECS\n",
    "5. Docker Swarm"
   ]
  },
  {
   "attachments": {},
   "cell_type": "markdown",
   "metadata": {},
   "source": [
    "How does a Docker image differ from a Docker container?\n",
    "\n",
    "The key difference between a Docker image Vs a container is that a Docker image is a template that defines how a container will be realized. A Docker container is a runtime instance of a Docker image that gets created when the \"$ docker run\" command is implemented."
   ]
  }
 ],
 "metadata": {
  "language_info": {
   "name": "python"
  },
  "orig_nbformat": 4
 },
 "nbformat": 4,
 "nbformat_minor": 2
}
